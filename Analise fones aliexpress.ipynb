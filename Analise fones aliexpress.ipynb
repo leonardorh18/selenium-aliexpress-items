{
 "cells": [
  {
   "cell_type": "code",
   "execution_count": 61,
   "id": "7cee8de5",
   "metadata": {},
   "outputs": [],
   "source": [
    "import pandas as pd\n",
    "import seaborn as sns\n"
   ]
  },
  {
   "cell_type": "code",
   "execution_count": 62,
   "id": "d39628a8",
   "metadata": {},
   "outputs": [],
   "source": [
    "df = pd.read_csv(\"fones_bluetooth.csv\")"
   ]
  },
  {
   "cell_type": "code",
   "execution_count": 63,
   "id": "9275e9a1",
   "metadata": {},
   "outputs": [
    {
     "data": {
      "text/html": [
       "<div>\n",
       "<style scoped>\n",
       "    .dataframe tbody tr th:only-of-type {\n",
       "        vertical-align: middle;\n",
       "    }\n",
       "\n",
       "    .dataframe tbody tr th {\n",
       "        vertical-align: top;\n",
       "    }\n",
       "\n",
       "    .dataframe thead th {\n",
       "        text-align: right;\n",
       "    }\n",
       "</style>\n",
       "<table border=\"1\" class=\"dataframe\">\n",
       "  <thead>\n",
       "    <tr style=\"text-align: right;\">\n",
       "      <th></th>\n",
       "      <th>Unnamed: 0</th>\n",
       "      <th>titulo</th>\n",
       "      <th>preco</th>\n",
       "      <th>vendidos</th>\n",
       "      <th>rating</th>\n",
       "      <th>frete</th>\n",
       "      <th>loja</th>\n",
       "    </tr>\n",
       "  </thead>\n",
       "  <tbody>\n",
       "    <tr>\n",
       "      <th>0</th>\n",
       "      <td>0</td>\n",
       "      <td>Original xiaomi redmi airdots 2 fone de ouvido...</td>\n",
       "      <td>R$29,97</td>\n",
       "      <td>35021 vendido(s)</td>\n",
       "      <td>4.5</td>\n",
       "      <td>Frete grátis</td>\n",
       "      <td>Shop911531059 Store</td>\n",
       "    </tr>\n",
       "    <tr>\n",
       "      <th>1</th>\n",
       "      <td>1</td>\n",
       "      <td>Original tws y60 fone de ouvido bluetooth sem ...</td>\n",
       "      <td>R$20,62</td>\n",
       "      <td>1745 vendido(s)</td>\n",
       "      <td>4.9</td>\n",
       "      <td>Frete grátis</td>\n",
       "      <td>Shop911531056 Store</td>\n",
       "    </tr>\n",
       "    <tr>\n",
       "      <th>2</th>\n",
       "      <td>2</td>\n",
       "      <td>Novo original lenovo lp40 tws fone de ouvido s...</td>\n",
       "      <td>R$66,97</td>\n",
       "      <td>70851 vendido(s)</td>\n",
       "      <td>4.6</td>\n",
       "      <td>Frete grátis</td>\n",
       "      <td>Mobile Phone Online Store</td>\n",
       "    </tr>\n",
       "    <tr>\n",
       "      <th>3</th>\n",
       "      <td>3</td>\n",
       "      <td>I7s tws fones de ouvido sem fio bluetooth 5.0 ...</td>\n",
       "      <td>R$10,01</td>\n",
       "      <td>3901 vendido(s)</td>\n",
       "      <td>4.5</td>\n",
       "      <td>+ envio: R$ 13,71</td>\n",
       "      <td>VIKEFON Official Store</td>\n",
       "    </tr>\n",
       "    <tr>\n",
       "      <th>4</th>\n",
       "      <td>4</td>\n",
       "      <td>Lenovo xt80 bluetooth 5.3 fones de ouvido sem ...</td>\n",
       "      <td>R$87,7</td>\n",
       "      <td>1253 vendido(s)</td>\n",
       "      <td>4.9</td>\n",
       "      <td>Frete grátis</td>\n",
       "      <td>Lenovo Original Digital Store</td>\n",
       "    </tr>\n",
       "  </tbody>\n",
       "</table>\n",
       "</div>"
      ],
      "text/plain": [
       "   Unnamed: 0                                             titulo    preco  \\\n",
       "0           0  Original xiaomi redmi airdots 2 fone de ouvido...  R$29,97   \n",
       "1           1  Original tws y60 fone de ouvido bluetooth sem ...  R$20,62   \n",
       "2           2  Novo original lenovo lp40 tws fone de ouvido s...  R$66,97   \n",
       "3           3  I7s tws fones de ouvido sem fio bluetooth 5.0 ...  R$10,01   \n",
       "4           4  Lenovo xt80 bluetooth 5.3 fones de ouvido sem ...   R$87,7   \n",
       "\n",
       "           vendidos  rating              frete                           loja  \n",
       "0  35021 vendido(s)     4.5       Frete grátis            Shop911531059 Store  \n",
       "1   1745 vendido(s)     4.9       Frete grátis            Shop911531056 Store  \n",
       "2  70851 vendido(s)     4.6       Frete grátis      Mobile Phone Online Store  \n",
       "3   3901 vendido(s)     4.5  + envio: R$ 13,71         VIKEFON Official Store  \n",
       "4   1253 vendido(s)     4.9       Frete grátis  Lenovo Original Digital Store  "
      ]
     },
     "execution_count": 63,
     "metadata": {},
     "output_type": "execute_result"
    }
   ],
   "source": [
    "df.head()"
   ]
  },
  {
   "cell_type": "markdown",
   "id": "f36243f1",
   "metadata": {},
   "source": [
    "# Limpando o preço"
   ]
  },
  {
   "cell_type": "code",
   "execution_count": 64,
   "id": "c0511fe2",
   "metadata": {},
   "outputs": [],
   "source": [
    "df.preco = df.preco.apply( lambda x: float(x.replace(\"R$\", '').replace(\",\", '.')))"
   ]
  },
  {
   "cell_type": "code",
   "execution_count": 65,
   "id": "8c6776dd",
   "metadata": {},
   "outputs": [
    {
     "data": {
      "text/html": [
       "<div>\n",
       "<style scoped>\n",
       "    .dataframe tbody tr th:only-of-type {\n",
       "        vertical-align: middle;\n",
       "    }\n",
       "\n",
       "    .dataframe tbody tr th {\n",
       "        vertical-align: top;\n",
       "    }\n",
       "\n",
       "    .dataframe thead th {\n",
       "        text-align: right;\n",
       "    }\n",
       "</style>\n",
       "<table border=\"1\" class=\"dataframe\">\n",
       "  <thead>\n",
       "    <tr style=\"text-align: right;\">\n",
       "      <th></th>\n",
       "      <th>Unnamed: 0</th>\n",
       "      <th>titulo</th>\n",
       "      <th>preco</th>\n",
       "      <th>vendidos</th>\n",
       "      <th>rating</th>\n",
       "      <th>frete</th>\n",
       "      <th>loja</th>\n",
       "    </tr>\n",
       "  </thead>\n",
       "  <tbody>\n",
       "    <tr>\n",
       "      <th>0</th>\n",
       "      <td>0</td>\n",
       "      <td>Original xiaomi redmi airdots 2 fone de ouvido...</td>\n",
       "      <td>29.97</td>\n",
       "      <td>35021 vendido(s)</td>\n",
       "      <td>4.5</td>\n",
       "      <td>Frete grátis</td>\n",
       "      <td>Shop911531059 Store</td>\n",
       "    </tr>\n",
       "    <tr>\n",
       "      <th>1</th>\n",
       "      <td>1</td>\n",
       "      <td>Original tws y60 fone de ouvido bluetooth sem ...</td>\n",
       "      <td>20.62</td>\n",
       "      <td>1745 vendido(s)</td>\n",
       "      <td>4.9</td>\n",
       "      <td>Frete grátis</td>\n",
       "      <td>Shop911531056 Store</td>\n",
       "    </tr>\n",
       "    <tr>\n",
       "      <th>2</th>\n",
       "      <td>2</td>\n",
       "      <td>Novo original lenovo lp40 tws fone de ouvido s...</td>\n",
       "      <td>66.97</td>\n",
       "      <td>70851 vendido(s)</td>\n",
       "      <td>4.6</td>\n",
       "      <td>Frete grátis</td>\n",
       "      <td>Mobile Phone Online Store</td>\n",
       "    </tr>\n",
       "    <tr>\n",
       "      <th>3</th>\n",
       "      <td>3</td>\n",
       "      <td>I7s tws fones de ouvido sem fio bluetooth 5.0 ...</td>\n",
       "      <td>10.01</td>\n",
       "      <td>3901 vendido(s)</td>\n",
       "      <td>4.5</td>\n",
       "      <td>+ envio: R$ 13,71</td>\n",
       "      <td>VIKEFON Official Store</td>\n",
       "    </tr>\n",
       "    <tr>\n",
       "      <th>4</th>\n",
       "      <td>4</td>\n",
       "      <td>Lenovo xt80 bluetooth 5.3 fones de ouvido sem ...</td>\n",
       "      <td>87.70</td>\n",
       "      <td>1253 vendido(s)</td>\n",
       "      <td>4.9</td>\n",
       "      <td>Frete grátis</td>\n",
       "      <td>Lenovo Original Digital Store</td>\n",
       "    </tr>\n",
       "  </tbody>\n",
       "</table>\n",
       "</div>"
      ],
      "text/plain": [
       "   Unnamed: 0                                             titulo  preco  \\\n",
       "0           0  Original xiaomi redmi airdots 2 fone de ouvido...  29.97   \n",
       "1           1  Original tws y60 fone de ouvido bluetooth sem ...  20.62   \n",
       "2           2  Novo original lenovo lp40 tws fone de ouvido s...  66.97   \n",
       "3           3  I7s tws fones de ouvido sem fio bluetooth 5.0 ...  10.01   \n",
       "4           4  Lenovo xt80 bluetooth 5.3 fones de ouvido sem ...  87.70   \n",
       "\n",
       "           vendidos  rating              frete                           loja  \n",
       "0  35021 vendido(s)     4.5       Frete grátis            Shop911531059 Store  \n",
       "1   1745 vendido(s)     4.9       Frete grátis            Shop911531056 Store  \n",
       "2  70851 vendido(s)     4.6       Frete grátis      Mobile Phone Online Store  \n",
       "3   3901 vendido(s)     4.5  + envio: R$ 13,71         VIKEFON Official Store  \n",
       "4   1253 vendido(s)     4.9       Frete grátis  Lenovo Original Digital Store  "
      ]
     },
     "execution_count": 65,
     "metadata": {},
     "output_type": "execute_result"
    }
   ],
   "source": [
    "df.head()"
   ]
  },
  {
   "cell_type": "markdown",
   "id": "53da949c",
   "metadata": {},
   "source": [
    "# Limpando coluna vendidos"
   ]
  },
  {
   "cell_type": "code",
   "execution_count": 66,
   "id": "cf971ccf",
   "metadata": {},
   "outputs": [],
   "source": [
    "df.vendidos = df.vendidos.apply( lambda x: int(x.split()[0]))"
   ]
  },
  {
   "cell_type": "code",
   "execution_count": 67,
   "id": "11700a1b",
   "metadata": {},
   "outputs": [
    {
     "data": {
      "text/html": [
       "<div>\n",
       "<style scoped>\n",
       "    .dataframe tbody tr th:only-of-type {\n",
       "        vertical-align: middle;\n",
       "    }\n",
       "\n",
       "    .dataframe tbody tr th {\n",
       "        vertical-align: top;\n",
       "    }\n",
       "\n",
       "    .dataframe thead th {\n",
       "        text-align: right;\n",
       "    }\n",
       "</style>\n",
       "<table border=\"1\" class=\"dataframe\">\n",
       "  <thead>\n",
       "    <tr style=\"text-align: right;\">\n",
       "      <th></th>\n",
       "      <th>Unnamed: 0</th>\n",
       "      <th>titulo</th>\n",
       "      <th>preco</th>\n",
       "      <th>vendidos</th>\n",
       "      <th>rating</th>\n",
       "      <th>frete</th>\n",
       "      <th>loja</th>\n",
       "    </tr>\n",
       "  </thead>\n",
       "  <tbody>\n",
       "    <tr>\n",
       "      <th>0</th>\n",
       "      <td>0</td>\n",
       "      <td>Original xiaomi redmi airdots 2 fone de ouvido...</td>\n",
       "      <td>29.97</td>\n",
       "      <td>35021</td>\n",
       "      <td>4.5</td>\n",
       "      <td>Frete grátis</td>\n",
       "      <td>Shop911531059 Store</td>\n",
       "    </tr>\n",
       "    <tr>\n",
       "      <th>1</th>\n",
       "      <td>1</td>\n",
       "      <td>Original tws y60 fone de ouvido bluetooth sem ...</td>\n",
       "      <td>20.62</td>\n",
       "      <td>1745</td>\n",
       "      <td>4.9</td>\n",
       "      <td>Frete grátis</td>\n",
       "      <td>Shop911531056 Store</td>\n",
       "    </tr>\n",
       "    <tr>\n",
       "      <th>2</th>\n",
       "      <td>2</td>\n",
       "      <td>Novo original lenovo lp40 tws fone de ouvido s...</td>\n",
       "      <td>66.97</td>\n",
       "      <td>70851</td>\n",
       "      <td>4.6</td>\n",
       "      <td>Frete grátis</td>\n",
       "      <td>Mobile Phone Online Store</td>\n",
       "    </tr>\n",
       "    <tr>\n",
       "      <th>3</th>\n",
       "      <td>3</td>\n",
       "      <td>I7s tws fones de ouvido sem fio bluetooth 5.0 ...</td>\n",
       "      <td>10.01</td>\n",
       "      <td>3901</td>\n",
       "      <td>4.5</td>\n",
       "      <td>+ envio: R$ 13,71</td>\n",
       "      <td>VIKEFON Official Store</td>\n",
       "    </tr>\n",
       "    <tr>\n",
       "      <th>4</th>\n",
       "      <td>4</td>\n",
       "      <td>Lenovo xt80 bluetooth 5.3 fones de ouvido sem ...</td>\n",
       "      <td>87.70</td>\n",
       "      <td>1253</td>\n",
       "      <td>4.9</td>\n",
       "      <td>Frete grátis</td>\n",
       "      <td>Lenovo Original Digital Store</td>\n",
       "    </tr>\n",
       "  </tbody>\n",
       "</table>\n",
       "</div>"
      ],
      "text/plain": [
       "   Unnamed: 0                                             titulo  preco  \\\n",
       "0           0  Original xiaomi redmi airdots 2 fone de ouvido...  29.97   \n",
       "1           1  Original tws y60 fone de ouvido bluetooth sem ...  20.62   \n",
       "2           2  Novo original lenovo lp40 tws fone de ouvido s...  66.97   \n",
       "3           3  I7s tws fones de ouvido sem fio bluetooth 5.0 ...  10.01   \n",
       "4           4  Lenovo xt80 bluetooth 5.3 fones de ouvido sem ...  87.70   \n",
       "\n",
       "   vendidos  rating              frete                           loja  \n",
       "0     35021     4.5       Frete grátis            Shop911531059 Store  \n",
       "1      1745     4.9       Frete grátis            Shop911531056 Store  \n",
       "2     70851     4.6       Frete grátis      Mobile Phone Online Store  \n",
       "3      3901     4.5  + envio: R$ 13,71         VIKEFON Official Store  \n",
       "4      1253     4.9       Frete grátis  Lenovo Original Digital Store  "
      ]
     },
     "execution_count": 67,
     "metadata": {},
     "output_type": "execute_result"
    }
   ],
   "source": [
    "df.head()"
   ]
  },
  {
   "cell_type": "markdown",
   "id": "218f6659",
   "metadata": {},
   "source": [
    "# Limpando frete"
   ]
  },
  {
   "cell_type": "code",
   "execution_count": 68,
   "id": "99bc86ef",
   "metadata": {},
   "outputs": [],
   "source": [
    "df['valor_frete'] = df.frete.apply( lambda x: 0 if x == 'Frete grátis' else float(x.split()[-1].replace(\",\", '.')))\n",
    "df.frete = df.frete.apply( lambda x: 'Grátis' if x == 'Frete grátis' else 'Pago')"
   ]
  },
  {
   "cell_type": "code",
   "execution_count": 69,
   "id": "c143942f",
   "metadata": {
    "scrolled": true
   },
   "outputs": [
    {
     "data": {
      "text/html": [
       "<div>\n",
       "<style scoped>\n",
       "    .dataframe tbody tr th:only-of-type {\n",
       "        vertical-align: middle;\n",
       "    }\n",
       "\n",
       "    .dataframe tbody tr th {\n",
       "        vertical-align: top;\n",
       "    }\n",
       "\n",
       "    .dataframe thead th {\n",
       "        text-align: right;\n",
       "    }\n",
       "</style>\n",
       "<table border=\"1\" class=\"dataframe\">\n",
       "  <thead>\n",
       "    <tr style=\"text-align: right;\">\n",
       "      <th></th>\n",
       "      <th>Unnamed: 0</th>\n",
       "      <th>titulo</th>\n",
       "      <th>preco</th>\n",
       "      <th>vendidos</th>\n",
       "      <th>rating</th>\n",
       "      <th>frete</th>\n",
       "      <th>loja</th>\n",
       "      <th>valor_frete</th>\n",
       "    </tr>\n",
       "  </thead>\n",
       "  <tbody>\n",
       "    <tr>\n",
       "      <th>0</th>\n",
       "      <td>0</td>\n",
       "      <td>Original xiaomi redmi airdots 2 fone de ouvido...</td>\n",
       "      <td>29.97</td>\n",
       "      <td>35021</td>\n",
       "      <td>4.5</td>\n",
       "      <td>Grátis</td>\n",
       "      <td>Shop911531059 Store</td>\n",
       "      <td>0.00</td>\n",
       "    </tr>\n",
       "    <tr>\n",
       "      <th>1</th>\n",
       "      <td>1</td>\n",
       "      <td>Original tws y60 fone de ouvido bluetooth sem ...</td>\n",
       "      <td>20.62</td>\n",
       "      <td>1745</td>\n",
       "      <td>4.9</td>\n",
       "      <td>Grátis</td>\n",
       "      <td>Shop911531056 Store</td>\n",
       "      <td>0.00</td>\n",
       "    </tr>\n",
       "    <tr>\n",
       "      <th>2</th>\n",
       "      <td>2</td>\n",
       "      <td>Novo original lenovo lp40 tws fone de ouvido s...</td>\n",
       "      <td>66.97</td>\n",
       "      <td>70851</td>\n",
       "      <td>4.6</td>\n",
       "      <td>Grátis</td>\n",
       "      <td>Mobile Phone Online Store</td>\n",
       "      <td>0.00</td>\n",
       "    </tr>\n",
       "    <tr>\n",
       "      <th>3</th>\n",
       "      <td>3</td>\n",
       "      <td>I7s tws fones de ouvido sem fio bluetooth 5.0 ...</td>\n",
       "      <td>10.01</td>\n",
       "      <td>3901</td>\n",
       "      <td>4.5</td>\n",
       "      <td>Pago</td>\n",
       "      <td>VIKEFON Official Store</td>\n",
       "      <td>13.71</td>\n",
       "    </tr>\n",
       "    <tr>\n",
       "      <th>4</th>\n",
       "      <td>4</td>\n",
       "      <td>Lenovo xt80 bluetooth 5.3 fones de ouvido sem ...</td>\n",
       "      <td>87.70</td>\n",
       "      <td>1253</td>\n",
       "      <td>4.9</td>\n",
       "      <td>Grátis</td>\n",
       "      <td>Lenovo Original Digital Store</td>\n",
       "      <td>0.00</td>\n",
       "    </tr>\n",
       "  </tbody>\n",
       "</table>\n",
       "</div>"
      ],
      "text/plain": [
       "   Unnamed: 0                                             titulo  preco  \\\n",
       "0           0  Original xiaomi redmi airdots 2 fone de ouvido...  29.97   \n",
       "1           1  Original tws y60 fone de ouvido bluetooth sem ...  20.62   \n",
       "2           2  Novo original lenovo lp40 tws fone de ouvido s...  66.97   \n",
       "3           3  I7s tws fones de ouvido sem fio bluetooth 5.0 ...  10.01   \n",
       "4           4  Lenovo xt80 bluetooth 5.3 fones de ouvido sem ...  87.70   \n",
       "\n",
       "   vendidos  rating   frete                           loja  valor_frete  \n",
       "0     35021     4.5  Grátis            Shop911531059 Store         0.00  \n",
       "1      1745     4.9  Grátis            Shop911531056 Store         0.00  \n",
       "2     70851     4.6  Grátis      Mobile Phone Online Store         0.00  \n",
       "3      3901     4.5    Pago         VIKEFON Official Store        13.71  \n",
       "4      1253     4.9  Grátis  Lenovo Original Digital Store         0.00  "
      ]
     },
     "execution_count": 69,
     "metadata": {},
     "output_type": "execute_result"
    }
   ],
   "source": [
    "df.head()"
   ]
  },
  {
   "cell_type": "markdown",
   "id": "c55e73d9",
   "metadata": {},
   "source": [
    "# criando novo atributo"
   ]
  },
  {
   "cell_type": "code",
   "execution_count": 70,
   "id": "a50dbd82",
   "metadata": {},
   "outputs": [],
   "source": [
    "df['preco_total'] = df.preco + df.valor_frete\n",
    "df['total_vendido'] = df.vendidos * df.preco"
   ]
  },
  {
   "cell_type": "code",
   "execution_count": 71,
   "id": "9ed6264a",
   "metadata": {},
   "outputs": [
    {
     "data": {
      "text/html": [
       "<div>\n",
       "<style scoped>\n",
       "    .dataframe tbody tr th:only-of-type {\n",
       "        vertical-align: middle;\n",
       "    }\n",
       "\n",
       "    .dataframe tbody tr th {\n",
       "        vertical-align: top;\n",
       "    }\n",
       "\n",
       "    .dataframe thead th {\n",
       "        text-align: right;\n",
       "    }\n",
       "</style>\n",
       "<table border=\"1\" class=\"dataframe\">\n",
       "  <thead>\n",
       "    <tr style=\"text-align: right;\">\n",
       "      <th></th>\n",
       "      <th>Unnamed: 0</th>\n",
       "      <th>titulo</th>\n",
       "      <th>preco</th>\n",
       "      <th>vendidos</th>\n",
       "      <th>rating</th>\n",
       "      <th>frete</th>\n",
       "      <th>loja</th>\n",
       "      <th>valor_frete</th>\n",
       "      <th>preco_total</th>\n",
       "      <th>total_vendido</th>\n",
       "    </tr>\n",
       "  </thead>\n",
       "  <tbody>\n",
       "    <tr>\n",
       "      <th>0</th>\n",
       "      <td>0</td>\n",
       "      <td>Original xiaomi redmi airdots 2 fone de ouvido...</td>\n",
       "      <td>29.97</td>\n",
       "      <td>35021</td>\n",
       "      <td>4.5</td>\n",
       "      <td>Grátis</td>\n",
       "      <td>Shop911531059 Store</td>\n",
       "      <td>0.00</td>\n",
       "      <td>29.97</td>\n",
       "      <td>1049579.37</td>\n",
       "    </tr>\n",
       "    <tr>\n",
       "      <th>1</th>\n",
       "      <td>1</td>\n",
       "      <td>Original tws y60 fone de ouvido bluetooth sem ...</td>\n",
       "      <td>20.62</td>\n",
       "      <td>1745</td>\n",
       "      <td>4.9</td>\n",
       "      <td>Grátis</td>\n",
       "      <td>Shop911531056 Store</td>\n",
       "      <td>0.00</td>\n",
       "      <td>20.62</td>\n",
       "      <td>35981.90</td>\n",
       "    </tr>\n",
       "    <tr>\n",
       "      <th>2</th>\n",
       "      <td>2</td>\n",
       "      <td>Novo original lenovo lp40 tws fone de ouvido s...</td>\n",
       "      <td>66.97</td>\n",
       "      <td>70851</td>\n",
       "      <td>4.6</td>\n",
       "      <td>Grátis</td>\n",
       "      <td>Mobile Phone Online Store</td>\n",
       "      <td>0.00</td>\n",
       "      <td>66.97</td>\n",
       "      <td>4744891.47</td>\n",
       "    </tr>\n",
       "    <tr>\n",
       "      <th>3</th>\n",
       "      <td>3</td>\n",
       "      <td>I7s tws fones de ouvido sem fio bluetooth 5.0 ...</td>\n",
       "      <td>10.01</td>\n",
       "      <td>3901</td>\n",
       "      <td>4.5</td>\n",
       "      <td>Pago</td>\n",
       "      <td>VIKEFON Official Store</td>\n",
       "      <td>13.71</td>\n",
       "      <td>23.72</td>\n",
       "      <td>39049.01</td>\n",
       "    </tr>\n",
       "    <tr>\n",
       "      <th>4</th>\n",
       "      <td>4</td>\n",
       "      <td>Lenovo xt80 bluetooth 5.3 fones de ouvido sem ...</td>\n",
       "      <td>87.70</td>\n",
       "      <td>1253</td>\n",
       "      <td>4.9</td>\n",
       "      <td>Grátis</td>\n",
       "      <td>Lenovo Original Digital Store</td>\n",
       "      <td>0.00</td>\n",
       "      <td>87.70</td>\n",
       "      <td>109888.10</td>\n",
       "    </tr>\n",
       "  </tbody>\n",
       "</table>\n",
       "</div>"
      ],
      "text/plain": [
       "   Unnamed: 0                                             titulo  preco  \\\n",
       "0           0  Original xiaomi redmi airdots 2 fone de ouvido...  29.97   \n",
       "1           1  Original tws y60 fone de ouvido bluetooth sem ...  20.62   \n",
       "2           2  Novo original lenovo lp40 tws fone de ouvido s...  66.97   \n",
       "3           3  I7s tws fones de ouvido sem fio bluetooth 5.0 ...  10.01   \n",
       "4           4  Lenovo xt80 bluetooth 5.3 fones de ouvido sem ...  87.70   \n",
       "\n",
       "   vendidos  rating   frete                           loja  valor_frete  \\\n",
       "0     35021     4.5  Grátis            Shop911531059 Store         0.00   \n",
       "1      1745     4.9  Grátis            Shop911531056 Store         0.00   \n",
       "2     70851     4.6  Grátis      Mobile Phone Online Store         0.00   \n",
       "3      3901     4.5    Pago         VIKEFON Official Store        13.71   \n",
       "4      1253     4.9  Grátis  Lenovo Original Digital Store         0.00   \n",
       "\n",
       "   preco_total  total_vendido  \n",
       "0        29.97     1049579.37  \n",
       "1        20.62       35981.90  \n",
       "2        66.97     4744891.47  \n",
       "3        23.72       39049.01  \n",
       "4        87.70      109888.10  "
      ]
     },
     "execution_count": 71,
     "metadata": {},
     "output_type": "execute_result"
    }
   ],
   "source": [
    "df.head()"
   ]
  },
  {
   "cell_type": "markdown",
   "id": "3d3911df",
   "metadata": {},
   "source": [
    "# Análises"
   ]
  },
  {
   "cell_type": "markdown",
   "id": "d7375644",
   "metadata": {},
   "source": [
    "#### analisando correlação dos dados"
   ]
  },
  {
   "cell_type": "code",
   "execution_count": 72,
   "id": "f4dda1c9",
   "metadata": {},
   "outputs": [],
   "source": [
    "dados_corr = df[['preco', 'vendidos', 'rating', 'valor_frete', 'preco_total']]"
   ]
  },
  {
   "cell_type": "code",
   "execution_count": 73,
   "id": "7fab7a0a",
   "metadata": {},
   "outputs": [
    {
     "data": {
      "text/html": [
       "<div>\n",
       "<style scoped>\n",
       "    .dataframe tbody tr th:only-of-type {\n",
       "        vertical-align: middle;\n",
       "    }\n",
       "\n",
       "    .dataframe tbody tr th {\n",
       "        vertical-align: top;\n",
       "    }\n",
       "\n",
       "    .dataframe thead th {\n",
       "        text-align: right;\n",
       "    }\n",
       "</style>\n",
       "<table border=\"1\" class=\"dataframe\">\n",
       "  <thead>\n",
       "    <tr style=\"text-align: right;\">\n",
       "      <th></th>\n",
       "      <th>preco</th>\n",
       "      <th>vendidos</th>\n",
       "      <th>rating</th>\n",
       "      <th>valor_frete</th>\n",
       "      <th>preco_total</th>\n",
       "    </tr>\n",
       "  </thead>\n",
       "  <tbody>\n",
       "    <tr>\n",
       "      <th>preco</th>\n",
       "      <td>1.000000</td>\n",
       "      <td>0.003420</td>\n",
       "      <td>-0.078250</td>\n",
       "      <td>-0.333467</td>\n",
       "      <td>0.994031</td>\n",
       "    </tr>\n",
       "    <tr>\n",
       "      <th>vendidos</th>\n",
       "      <td>0.003420</td>\n",
       "      <td>1.000000</td>\n",
       "      <td>0.088321</td>\n",
       "      <td>-0.099860</td>\n",
       "      <td>-0.008024</td>\n",
       "    </tr>\n",
       "    <tr>\n",
       "      <th>rating</th>\n",
       "      <td>-0.078250</td>\n",
       "      <td>0.088321</td>\n",
       "      <td>1.000000</td>\n",
       "      <td>0.058169</td>\n",
       "      <td>-0.074071</td>\n",
       "    </tr>\n",
       "    <tr>\n",
       "      <th>valor_frete</th>\n",
       "      <td>-0.333467</td>\n",
       "      <td>-0.099860</td>\n",
       "      <td>0.058169</td>\n",
       "      <td>1.000000</td>\n",
       "      <td>-0.228623</td>\n",
       "    </tr>\n",
       "    <tr>\n",
       "      <th>preco_total</th>\n",
       "      <td>0.994031</td>\n",
       "      <td>-0.008024</td>\n",
       "      <td>-0.074071</td>\n",
       "      <td>-0.228623</td>\n",
       "      <td>1.000000</td>\n",
       "    </tr>\n",
       "  </tbody>\n",
       "</table>\n",
       "</div>"
      ],
      "text/plain": [
       "                preco  vendidos    rating  valor_frete  preco_total\n",
       "preco        1.000000  0.003420 -0.078250    -0.333467     0.994031\n",
       "vendidos     0.003420  1.000000  0.088321    -0.099860    -0.008024\n",
       "rating      -0.078250  0.088321  1.000000     0.058169    -0.074071\n",
       "valor_frete -0.333467 -0.099860  0.058169     1.000000    -0.228623\n",
       "preco_total  0.994031 -0.008024 -0.074071    -0.228623     1.000000"
      ]
     },
     "execution_count": 73,
     "metadata": {},
     "output_type": "execute_result"
    }
   ],
   "source": [
    "dados_corr.corr()"
   ]
  },
  {
   "cell_type": "code",
   "execution_count": 74,
   "id": "f6afcdb8",
   "metadata": {},
   "outputs": [
    {
     "data": {
      "image/png": "[encoded data removed]",
      "text/plain": [
       "<Figure size 432x288 with 2 Axes>"
      ]
     },
     "metadata": {},
     "output_type": "display_data"
    }
   ],
   "source": [
    "plot = sns.heatmap(dados_corr.corr(), annot = True, fmt=\".1f\", linewidths=.6)"
   ]
  },
  {
   "cell_type": "markdown",
   "id": "4c899319",
   "metadata": {},
   "source": [
    "#### existem correlações fracas entre os dados. Aparentemente quando o frete aumenta, o preço diminui e quando o preço aumenta o frete diminui"
   ]
  },
  {
   "cell_type": "markdown",
   "id": "2ae43072",
   "metadata": {},
   "source": [
    "# Quantidade de vendas em relação ao preço total"
   ]
  },
  {
   "cell_type": "code",
   "execution_count": 75,
   "id": "2c48289b",
   "metadata": {},
   "outputs": [
    {
     "data": {
      "image/png": "[encoded data removed]",
      "text/plain": [
       "<Figure size 423x360 with 1 Axes>"
      ]
     },
     "metadata": {},
     "output_type": "display_data"
    }
   ],
   "source": [
    "\n",
    "sns.set_palette('pastel')\n",
    "sns.set_style('darkgrid')\n",
    "ax = sns.relplot(\n",
    "    data= df,\n",
    "    x=\"preco_total\", y=\"vendidos\", hue = 'frete',\n",
    ").set(title='Produtos vendidos em relação ao preço total dos mesmos')\n"
   ]
  },
  {
   "cell_type": "markdown",
   "id": "cb8d4208",
   "metadata": {},
   "source": [
    "# Quantidade de vendas em relação ao rating"
   ]
  },
  {
   "cell_type": "code",
   "execution_count": 76,
   "id": "44f781d8",
   "metadata": {},
   "outputs": [
    {
     "data": {
      "image/png": "[encoded data removed]",
      "text/plain": [
       "<Figure size 423x360 with 1 Axes>"
      ]
     },
     "metadata": {},
     "output_type": "display_data"
    }
   ],
   "source": [
    "sns.set_palette('pastel')\n",
    "sns.set_style('darkgrid')\n",
    "ax = sns.relplot(\n",
    "    data= df,\n",
    "    x=\"rating\", y=\"vendidos\", hue = 'frete',\n",
    ").set(title='Produtos vendidos em relação ao rating')\n"
   ]
  },
  {
   "cell_type": "markdown",
   "id": "69e0fbb6",
   "metadata": {},
   "source": [
    "# Preço total em relação ao rating"
   ]
  },
  {
   "cell_type": "code",
   "execution_count": 77,
   "id": "4abbae7f",
   "metadata": {
    "scrolled": false
   },
   "outputs": [
    {
     "data": {
      "image/png": "[encoded data removed]",
      "text/plain": [
       "<Figure size 423x360 with 1 Axes>"
      ]
     },
     "metadata": {},
     "output_type": "display_data"
    }
   ],
   "source": [
    "sns.set_palette('pastel')\n",
    "sns.set_style('darkgrid')\n",
    "ax = sns.relplot(\n",
    "    data= df,\n",
    "    x=\"rating\", y=\"preco_total\", hue = 'frete',\n",
    ").set(title='Rating em relação ao preço total')\n"
   ]
  },
  {
   "cell_type": "code",
   "execution_count": 94,
   "id": "3578fabb",
   "metadata": {
    "scrolled": false
   },
   "outputs": [
    {
     "data": {
      "image/png": "[encoded data removed]",
      "text/plain": [
       "<Figure size 423x360 with 1 Axes>"
      ]
     },
     "metadata": {},
     "output_type": "display_data"
    }
   ],
   "source": [
    "sns.set_palette('pastel')\n",
    "sns.set_style('darkgrid')\n",
    "ax = sns.relplot(\n",
    "    data= df,\n",
    "    x=\"total_vendido\", y=\"vendidos\", hue = 'frete',\n",
    ").set(title='Total vendido em R$ com a quantidade de pedidos vendidos')\n"
   ]
  },
  {
   "cell_type": "markdown",
   "id": "fb26edaf",
   "metadata": {},
   "source": [
    "#### Percebe-se que o produto que mais faturou não foi aquele que teve a maior quantidade de vendas"
   ]
  },
  {
   "cell_type": "code",
   "execution_count": 78,
   "id": "076f49f6",
   "metadata": {
    "scrolled": true
   },
   "outputs": [
    {
     "data": {
      "text/html": [
       "<div>\n",
       "<style scoped>\n",
       "    .dataframe tbody tr th:only-of-type {\n",
       "        vertical-align: middle;\n",
       "    }\n",
       "\n",
       "    .dataframe tbody tr th {\n",
       "        vertical-align: top;\n",
       "    }\n",
       "\n",
       "    .dataframe thead th {\n",
       "        text-align: right;\n",
       "    }\n",
       "</style>\n",
       "<table border=\"1\" class=\"dataframe\">\n",
       "  <thead>\n",
       "    <tr style=\"text-align: right;\">\n",
       "      <th></th>\n",
       "      <th>Unnamed: 0</th>\n",
       "      <th>preco</th>\n",
       "      <th>vendidos</th>\n",
       "      <th>rating</th>\n",
       "      <th>valor_frete</th>\n",
       "      <th>preco_total</th>\n",
       "      <th>total_vendido</th>\n",
       "    </tr>\n",
       "  </thead>\n",
       "  <tbody>\n",
       "    <tr>\n",
       "      <th>count</th>\n",
       "      <td>120.000000</td>\n",
       "      <td>120.000000</td>\n",
       "      <td>120.000000</td>\n",
       "      <td>120.000000</td>\n",
       "      <td>120.000000</td>\n",
       "      <td>120.000000</td>\n",
       "      <td>1.200000e+02</td>\n",
       "    </tr>\n",
       "    <tr>\n",
       "      <th>mean</th>\n",
       "      <td>59.500000</td>\n",
       "      <td>74.152250</td>\n",
       "      <td>2651.700000</td>\n",
       "      <td>4.238333</td>\n",
       "      <td>5.119667</td>\n",
       "      <td>79.271917</td>\n",
       "      <td>1.988340e+05</td>\n",
       "    </tr>\n",
       "    <tr>\n",
       "      <th>std</th>\n",
       "      <td>34.785054</td>\n",
       "      <td>83.979657</td>\n",
       "      <td>7739.568512</td>\n",
       "      <td>1.404745</td>\n",
       "      <td>9.411300</td>\n",
       "      <td>81.326740</td>\n",
       "      <td>6.728478e+05</td>\n",
       "    </tr>\n",
       "    <tr>\n",
       "      <th>min</th>\n",
       "      <td>0.000000</td>\n",
       "      <td>5.000000</td>\n",
       "      <td>0.000000</td>\n",
       "      <td>0.000000</td>\n",
       "      <td>0.000000</td>\n",
       "      <td>9.960000</td>\n",
       "      <td>0.000000e+00</td>\n",
       "    </tr>\n",
       "    <tr>\n",
       "      <th>25%</th>\n",
       "      <td>29.750000</td>\n",
       "      <td>29.970000</td>\n",
       "      <td>89.750000</td>\n",
       "      <td>4.500000</td>\n",
       "      <td>0.000000</td>\n",
       "      <td>30.340000</td>\n",
       "      <td>3.053172e+03</td>\n",
       "    </tr>\n",
       "    <tr>\n",
       "      <th>50%</th>\n",
       "      <td>59.500000</td>\n",
       "      <td>50.025000</td>\n",
       "      <td>421.000000</td>\n",
       "      <td>4.700000</td>\n",
       "      <td>0.000000</td>\n",
       "      <td>54.975000</td>\n",
       "      <td>2.302532e+04</td>\n",
       "    </tr>\n",
       "    <tr>\n",
       "      <th>75%</th>\n",
       "      <td>89.250000</td>\n",
       "      <td>82.980000</td>\n",
       "      <td>2143.750000</td>\n",
       "      <td>4.900000</td>\n",
       "      <td>7.655000</td>\n",
       "      <td>83.580000</td>\n",
       "      <td>1.037366e+05</td>\n",
       "    </tr>\n",
       "    <tr>\n",
       "      <th>max</th>\n",
       "      <td>119.000000</td>\n",
       "      <td>493.300000</td>\n",
       "      <td>70851.000000</td>\n",
       "      <td>5.000000</td>\n",
       "      <td>46.680000</td>\n",
       "      <td>493.300000</td>\n",
       "      <td>5.305308e+06</td>\n",
       "    </tr>\n",
       "  </tbody>\n",
       "</table>\n",
       "</div>"
      ],
      "text/plain": [
       "       Unnamed: 0       preco      vendidos      rating  valor_frete  \\\n",
       "count  120.000000  120.000000    120.000000  120.000000   120.000000   \n",
       "mean    59.500000   74.152250   2651.700000    4.238333     5.119667   \n",
       "std     34.785054   83.979657   7739.568512    1.404745     9.411300   \n",
       "min      0.000000    5.000000      0.000000    0.000000     0.000000   \n",
       "25%     29.750000   29.970000     89.750000    4.500000     0.000000   \n",
       "50%     59.500000   50.025000    421.000000    4.700000     0.000000   \n",
       "75%     89.250000   82.980000   2143.750000    4.900000     7.655000   \n",
       "max    119.000000  493.300000  70851.000000    5.000000    46.680000   \n",
       "\n",
       "       preco_total  total_vendido  \n",
       "count   120.000000   1.200000e+02  \n",
       "mean     79.271917   1.988340e+05  \n",
       "std      81.326740   6.728478e+05  \n",
       "min       9.960000   0.000000e+00  \n",
       "25%      30.340000   3.053172e+03  \n",
       "50%      54.975000   2.302532e+04  \n",
       "75%      83.580000   1.037366e+05  \n",
       "max     493.300000   5.305308e+06  "
      ]
     },
     "execution_count": 78,
     "metadata": {},
     "output_type": "execute_result"
    }
   ],
   "source": [
    "df.describe()"
   ]
  },
  {
   "cell_type": "markdown",
   "id": "5b0ac057",
   "metadata": {},
   "source": [
    "# Empresa com maior valor vendido"
   ]
  },
  {
   "cell_type": "code",
   "execution_count": 91,
   "id": "0a4663ae",
   "metadata": {},
   "outputs": [
    {
     "data": {
      "text/html": [
       "<div>\n",
       "<style scoped>\n",
       "    .dataframe tbody tr th:only-of-type {\n",
       "        vertical-align: middle;\n",
       "    }\n",
       "\n",
       "    .dataframe tbody tr th {\n",
       "        vertical-align: top;\n",
       "    }\n",
       "\n",
       "    .dataframe thead th {\n",
       "        text-align: right;\n",
       "    }\n",
       "</style>\n",
       "<table border=\"1\" class=\"dataframe\">\n",
       "  <thead>\n",
       "    <tr style=\"text-align: right;\">\n",
       "      <th></th>\n",
       "      <th>Unnamed: 0</th>\n",
       "      <th>titulo</th>\n",
       "      <th>preco</th>\n",
       "      <th>vendidos</th>\n",
       "      <th>rating</th>\n",
       "      <th>frete</th>\n",
       "      <th>loja</th>\n",
       "      <th>valor_frete</th>\n",
       "      <th>preco_total</th>\n",
       "      <th>total_vendido</th>\n",
       "    </tr>\n",
       "  </thead>\n",
       "  <tbody>\n",
       "    <tr>\n",
       "      <th>31</th>\n",
       "      <td>31</td>\n",
       "      <td>Soundcore by Anker Life Q30 fone de ouvido sem...</td>\n",
       "      <td>370.56</td>\n",
       "      <td>14317</td>\n",
       "      <td>4.8</td>\n",
       "      <td>Grátis</td>\n",
       "      <td>ANKER Official Store</td>\n",
       "      <td>0.0</td>\n",
       "      <td>370.56</td>\n",
       "      <td>5305307.52</td>\n",
       "    </tr>\n",
       "  </tbody>\n",
       "</table>\n",
       "</div>"
      ],
      "text/plain": [
       "    Unnamed: 0                                             titulo   preco  \\\n",
       "31          31  Soundcore by Anker Life Q30 fone de ouvido sem...  370.56   \n",
       "\n",
       "    vendidos  rating   frete                  loja  valor_frete  preco_total  \\\n",
       "31     14317     4.8  Grátis  ANKER Official Store          0.0       370.56   \n",
       "\n",
       "    total_vendido  \n",
       "31     5305307.52  "
      ]
     },
     "execution_count": 91,
     "metadata": {},
     "output_type": "execute_result"
    }
   ],
   "source": [
    "df[ df.total_vendido == df.total_vendido.max()]"
   ]
  },
  {
   "cell_type": "markdown",
   "id": "81993345",
   "metadata": {},
   "source": [
    "#### Total de R$ 5.305.307,52 em vendas"
   ]
  },
  {
   "cell_type": "markdown",
   "id": "a5ef96c0",
   "metadata": {},
   "source": [
    "# Média de preço"
   ]
  },
  {
   "cell_type": "code",
   "execution_count": 79,
   "id": "45969f10",
   "metadata": {},
   "outputs": [
    {
     "name": "stdout",
     "output_type": "stream",
     "text": [
      "Preço médio de 74.15 com um desvio padrão de 83.98\n"
     ]
    }
   ],
   "source": [
    "print(\"Preço médio de {} com um desvio padrão de {}\".format(round(df.preco.mean(),2), round(df.preco.std(),2)))\n"
   ]
  },
  {
   "cell_type": "markdown",
   "id": "a4716500",
   "metadata": {},
   "source": [
    "# Média do valor do frete"
   ]
  },
  {
   "cell_type": "code",
   "execution_count": 80,
   "id": "389337fc",
   "metadata": {},
   "outputs": [
    {
     "name": "stdout",
     "output_type": "stream",
     "text": [
      "Preço médio do frete de 5.12 com um desvio padrão de 9.41\n"
     ]
    }
   ],
   "source": [
    "print(\"Preço médio do frete de {} com um desvio padrão de {}\".format(round(df.valor_frete.mean(),2), round(df.valor_frete.std(),2)))\n"
   ]
  },
  {
   "cell_type": "markdown",
   "id": "b21c69e8",
   "metadata": {},
   "source": [
    "# Média do preço total"
   ]
  },
  {
   "cell_type": "code",
   "execution_count": 81,
   "id": "f1135e22",
   "metadata": {},
   "outputs": [
    {
     "name": "stdout",
     "output_type": "stream",
     "text": [
      "Preço total médio total de 79.27 com um desvio padrão de 81.33\n"
     ]
    }
   ],
   "source": [
    "print(\"Preço total médio total de {} com um desvio padrão de {}\".format(round(df.preco_total.mean(),2), round(df.preco_total.std(),2)))"
   ]
  },
  {
   "cell_type": "markdown",
   "id": "8f02ac50",
   "metadata": {},
   "source": [
    "# Lojas presentes no conjunto e a quantidade de fones que elas vendem"
   ]
  },
  {
   "cell_type": "code",
   "execution_count": 82,
   "id": "c3170fc7",
   "metadata": {
    "scrolled": true
   },
   "outputs": [
    {
     "data": {
      "text/plain": [
       "Shop911531059 Store             3\n",
       "Mobile Phone Online Store       3\n",
       "HSQJ 3C Official Store          2\n",
       "RFMicron Official Store         2\n",
       "ANKER Official Store            2\n",
       "                               ..\n",
       "Shop1100022014 Store            1\n",
       "LJSHU 3C Store                  1\n",
       "The Star Of Sennheiser Store    1\n",
       "SoundPEATS Official Store       1\n",
       "XIci Store                      1\n",
       "Name: loja, Length: 105, dtype: int64"
      ]
     },
     "execution_count": 82,
     "metadata": {},
     "output_type": "execute_result"
    }
   ],
   "source": [
    "df.loja.value_counts()"
   ]
  },
  {
   "cell_type": "markdown",
   "id": "d7975b72",
   "metadata": {},
   "source": [
    "## Quantidade de fones vendidos pelas lojas"
   ]
  },
  {
   "cell_type": "code",
   "execution_count": 83,
   "id": "4a38b329",
   "metadata": {
    "scrolled": true
   },
   "outputs": [
    {
     "data": {
      "text/html": [
       "<div>\n",
       "<style scoped>\n",
       "    .dataframe tbody tr th:only-of-type {\n",
       "        vertical-align: middle;\n",
       "    }\n",
       "\n",
       "    .dataframe tbody tr th {\n",
       "        vertical-align: top;\n",
       "    }\n",
       "\n",
       "    .dataframe thead th {\n",
       "        text-align: right;\n",
       "    }\n",
       "</style>\n",
       "<table border=\"1\" class=\"dataframe\">\n",
       "  <thead>\n",
       "    <tr style=\"text-align: right;\">\n",
       "      <th></th>\n",
       "      <th>vendidos</th>\n",
       "    </tr>\n",
       "    <tr>\n",
       "      <th>loja</th>\n",
       "      <th></th>\n",
       "    </tr>\n",
       "  </thead>\n",
       "  <tbody>\n",
       "    <tr>\n",
       "      <th>Mobile Phone Online Store</th>\n",
       "      <td>75374</td>\n",
       "    </tr>\n",
       "    <tr>\n",
       "      <th>Shop911599217 Store</th>\n",
       "      <td>37894</td>\n",
       "    </tr>\n",
       "    <tr>\n",
       "      <th>Shop911531059 Store</th>\n",
       "      <td>37003</td>\n",
       "    </tr>\n",
       "    <tr>\n",
       "      <th>ANKER Official Store</th>\n",
       "      <td>18273</td>\n",
       "    </tr>\n",
       "    <tr>\n",
       "      <th>Global Headphones Store</th>\n",
       "      <td>14964</td>\n",
       "    </tr>\n",
       "    <tr>\n",
       "      <th>...</th>\n",
       "      <td>...</td>\n",
       "    </tr>\n",
       "    <tr>\n",
       "      <th>TONGYUE MALL Store</th>\n",
       "      <td>6</td>\n",
       "    </tr>\n",
       "    <tr>\n",
       "      <th>HiMISS Global Store</th>\n",
       "      <td>4</td>\n",
       "    </tr>\n",
       "    <tr>\n",
       "      <th>LEMFO Europe Store</th>\n",
       "      <td>2</td>\n",
       "    </tr>\n",
       "    <tr>\n",
       "      <th>Upmarket Earphone Store</th>\n",
       "      <td>1</td>\n",
       "    </tr>\n",
       "    <tr>\n",
       "      <th>Shop1100035073 Store</th>\n",
       "      <td>0</td>\n",
       "    </tr>\n",
       "  </tbody>\n",
       "</table>\n",
       "<p>105 rows × 1 columns</p>\n",
       "</div>"
      ],
      "text/plain": [
       "                           vendidos\n",
       "loja                               \n",
       "Mobile Phone Online Store     75374\n",
       "Shop911599217 Store           37894\n",
       "Shop911531059 Store           37003\n",
       "ANKER Official Store          18273\n",
       "Global Headphones Store       14964\n",
       "...                             ...\n",
       "TONGYUE MALL Store                6\n",
       "HiMISS Global Store               4\n",
       "LEMFO Europe Store                2\n",
       "Upmarket Earphone Store           1\n",
       "Shop1100035073 Store              0\n",
       "\n",
       "[105 rows x 1 columns]"
      ]
     },
     "execution_count": 83,
     "metadata": {},
     "output_type": "execute_result"
    }
   ],
   "source": [
    "df.groupby('loja').sum()[['vendidos']].sort_values(by = ['vendidos'], ascending = False)"
   ]
  },
  {
   "cell_type": "code",
   "execution_count": null,
   "id": "4fbf19b1",
   "metadata": {},
   "outputs": [],
   "source": []
  },
  {
   "cell_type": "markdown",
   "id": "16c6991b",
   "metadata": {},
   "source": [
    "# Filtrando produtos por uma marca"
   ]
  },
  {
   "cell_type": "code",
   "execution_count": 84,
   "id": "314aad37",
   "metadata": {},
   "outputs": [],
   "source": [
    "xiaomi = df[df['titulo'].str.contains('xiaomi')]"
   ]
  },
  {
   "cell_type": "markdown",
   "id": "22ac9326",
   "metadata": {},
   "source": [
    "#### Media de preco dos fones da xiaomi no aliexpress, segundo a amostra"
   ]
  },
  {
   "cell_type": "code",
   "execution_count": 85,
   "id": "c9a16c75",
   "metadata": {},
   "outputs": [
    {
     "data": {
      "text/plain": [
       "73.86833333333333"
      ]
     },
     "execution_count": 85,
     "metadata": {},
     "output_type": "execute_result"
    }
   ],
   "source": [
    "xiaomi.preco_total.mean()"
   ]
  },
  {
   "cell_type": "markdown",
   "id": "7816c1cf",
   "metadata": {},
   "source": [
    "#### Media das avaliações dos fones da Xiaomi no aliexpress"
   ]
  },
  {
   "cell_type": "code",
   "execution_count": 86,
   "id": "7c850999",
   "metadata": {},
   "outputs": [
    {
     "data": {
      "text/plain": [
       "4.199999999999999"
      ]
     },
     "execution_count": 86,
     "metadata": {},
     "output_type": "execute_result"
    }
   ],
   "source": [
    "xiaomi.rating.mean()"
   ]
  },
  {
   "cell_type": "markdown",
   "id": "b62ff6c7",
   "metadata": {},
   "source": [
    "## Fone mais vendido da xiaomi"
   ]
  },
  {
   "cell_type": "code",
   "execution_count": 87,
   "id": "20bdbb01",
   "metadata": {},
   "outputs": [
    {
     "data": {
      "text/html": [
       "<div>\n",
       "<style scoped>\n",
       "    .dataframe tbody tr th:only-of-type {\n",
       "        vertical-align: middle;\n",
       "    }\n",
       "\n",
       "    .dataframe tbody tr th {\n",
       "        vertical-align: top;\n",
       "    }\n",
       "\n",
       "    .dataframe thead th {\n",
       "        text-align: right;\n",
       "    }\n",
       "</style>\n",
       "<table border=\"1\" class=\"dataframe\">\n",
       "  <thead>\n",
       "    <tr style=\"text-align: right;\">\n",
       "      <th></th>\n",
       "      <th>Unnamed: 0</th>\n",
       "      <th>titulo</th>\n",
       "      <th>preco</th>\n",
       "      <th>vendidos</th>\n",
       "      <th>rating</th>\n",
       "      <th>frete</th>\n",
       "      <th>loja</th>\n",
       "      <th>valor_frete</th>\n",
       "      <th>preco_total</th>\n",
       "      <th>total_vendido</th>\n",
       "    </tr>\n",
       "  </thead>\n",
       "  <tbody>\n",
       "    <tr>\n",
       "      <th>0</th>\n",
       "      <td>0</td>\n",
       "      <td>Original xiaomi redmi airdots 2 fone de ouvido...</td>\n",
       "      <td>29.97</td>\n",
       "      <td>35021</td>\n",
       "      <td>4.5</td>\n",
       "      <td>Grátis</td>\n",
       "      <td>Shop911531059 Store</td>\n",
       "      <td>0.0</td>\n",
       "      <td>29.97</td>\n",
       "      <td>1049579.37</td>\n",
       "    </tr>\n",
       "  </tbody>\n",
       "</table>\n",
       "</div>"
      ],
      "text/plain": [
       "   Unnamed: 0                                             titulo  preco  \\\n",
       "0           0  Original xiaomi redmi airdots 2 fone de ouvido...  29.97   \n",
       "\n",
       "   vendidos  rating   frete                 loja  valor_frete  preco_total  \\\n",
       "0     35021     4.5  Grátis  Shop911531059 Store          0.0        29.97   \n",
       "\n",
       "   total_vendido  \n",
       "0     1049579.37  "
      ]
     },
     "execution_count": 87,
     "metadata": {},
     "output_type": "execute_result"
    }
   ],
   "source": [
    "xiaomi[xiaomi.vendidos == xiaomi.vendidos.max()]"
   ]
  },
  {
   "cell_type": "markdown",
   "id": "5a8ca45e",
   "metadata": {},
   "source": [
    "##### apenas com esse fone, a empresa deve ter faturado aproximadamente 1.049.579,37 reais"
   ]
  },
  {
   "cell_type": "markdown",
   "id": "6a726def",
   "metadata": {},
   "source": [
    "## Loja que mais tem produtos da xiaomi"
   ]
  },
  {
   "cell_type": "code",
   "execution_count": 90,
   "id": "99268f0b",
   "metadata": {},
   "outputs": [
    {
     "data": {
      "text/plain": [
       "Shop911599217 Store                         2\n",
       "Shop911531059 Store                         1\n",
       "Shop 6600321006 Store                       1\n",
       "Shop1102119167 Store                        1\n",
       "TONGYUE MALL Store                          1\n",
       "Mi Authorized Experience Store              1\n",
       "RJYLZOfficial Store                         1\n",
       "LEEDOAR Factory Store                       1\n",
       "JOENEL Official Store                       1\n",
       "3C Happyday Store                           1\n",
       "Ybding Store                                1\n",
       "JOOJZ Store                                 1\n",
       "lamellate Store                             1\n",
       "Xiaomi Original Earphones Official Store    1\n",
       "3CC Smart Tech Global Store                 1\n",
       "Qearfun Global Store                        1\n",
       "BASEUS Co.,Ltd. Store                       1\n",
       "Name: loja, dtype: int64"
      ]
     },
     "execution_count": 90,
     "metadata": {},
     "output_type": "execute_result"
    }
   ],
   "source": [
    "xiaomi.loja.value_counts()"
   ]
  },
  {
   "cell_type": "code",
   "execution_count": null,
   "id": "2d60be61",
   "metadata": {},
   "outputs": [],
   "source": []
  }
 ],
 "metadata": {
  "kernelspec": {
   "display_name": "Python 3 (ipykernel)",
   "language": "python",
   "name": "python3"
  },
  "language_info": {
   "codemirror_mode": {
    "name": "ipython",
    "version": 3
   },
   "file_extension": ".py",
   "mimetype": "text/x-python",
   "name": "python",
   "nbconvert_exporter": "python",
   "pygments_lexer": "ipython3",
   "version": "3.9.7"
  }
 },
 "nbformat": 4,
 "nbformat_minor": 5
}
